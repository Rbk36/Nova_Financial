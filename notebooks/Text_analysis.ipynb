{
 "cells": [
  {
   "cell_type": "code",
   "execution_count": null,
   "metadata": {},
   "outputs": [],
   "source": [
    "import nltk\n",
    "from nltk.sentiment.vader import SentimentIntensityAnalyzer\n",
    "from vaderSentiment.vaderSentiment import SentimentIntensityAnalyzer\n",
    "import string\n",
    "import pandas as pd\n",
    "from collections import Counter\n",
    "from nltk.tokenize import word_tokenize\n",
    "from nltk.corpus import stopwords\n",
    "import matplotlib.pyplot as plt\n",
    "nltk.download('stopwords')\n",
    "nltk.download('punkt')\n",
    "\n",
    "\n",
    "\n"
   ]
  },
  {
   "cell_type": "code",
   "execution_count": 25,
   "metadata": {},
   "outputs": [],
   "source": [
    "# part 1: sentiment analysis\n",
    "# read csv file\n",
    "data = pd.read_csv('C:/Users/hp/Desktop/week1/data/raw_analyst_ratings.csv')"
   ]
  },
  {
   "cell_type": "code",
   "execution_count": 26,
   "metadata": {},
   "outputs": [
    {
     "name": "stdout",
     "output_type": "stream",
     "text": [
      "0                     Stocks That Hit 52Week Highs On Friday\n",
      "1                  Stocks That Hit 52Week Highs On Wednesday\n",
      "2                              71 Biggest Movers From Friday\n",
      "3                 46 Stocks Moving In Fridays MidDay Session\n",
      "4          B of A Securities Maintains Neutral on Agilent...\n",
      "                                 ...                        \n",
      "1407323               Top Narrow Based Indexes For August 29\n",
      "1407324    Recap Wednesdays Top Percentage Gainers and Lo...\n",
      "1407325    UPDATE Oppenheimer Color on China Zenix Auto I...\n",
      "1407326    Oppenheimer Initiates China Zenix At Outperfor...\n",
      "1407327    China Zenix Auto International Opens For Tradi...\n",
      "Name: headline, Length: 1407328, dtype: object\n"
     ]
    }
   ],
   "source": [
    "# data cleaning\n",
    "cleaned_data= data['headline'].apply(lambda x: x.translate(str.maketrans(\"\", \"\", string.punctuation)))\n",
    "print(cleaned_data)\n"
   ]
  },
  {
   "cell_type": "code",
   "execution_count": 27,
   "metadata": {},
   "outputs": [
    {
     "name": "stdout",
     "output_type": "stream",
     "text": [
      "                                            headline sentiment\n",
      "0            Stocks That Hit 52-Week Highs On Friday   neutral\n",
      "1         Stocks That Hit 52-Week Highs On Wednesday   neutral\n",
      "2                      71 Biggest Movers From Friday   neutral\n",
      "3       46 Stocks Moving In Friday's Mid-Day Session   neutral\n",
      "4  B of A Securities Maintains Neutral on Agilent...  positive\n"
     ]
    }
   ],
   "source": [
    "sia = SentimentIntensityAnalyzer()\n",
    "\n",
    "# Define a function sentiment_text\n",
    "def sentiment_text(cleaned_data):\n",
    "    score = sia.polarity_scores(cleaned_data)\n",
    "    if score['neg'] > score['pos']:\n",
    "        return 'negative'\n",
    "    elif score['neg'] < score['pos']:\n",
    "        return 'positive'\n",
    "    else:\n",
    "        return 'neutral'\n",
    "\n",
    "# Apply the function to the 'headline' column\n",
    "data['sentiment'] = data['headline'].apply(sentiment_text)\n",
    "\n",
    "# Print the result\n",
    "print(data[['headline', 'sentiment']].head(5))"
   ]
  },
  {
   "cell_type": "code",
   "execution_count": null,
   "metadata": {},
   "outputs": [],
   "source": [
    "\n",
    "\n",
    "def extract_keywords(cleaned_data):\n",
    "    \"\"\"Extracts the most common keywords from a cleaned text.\n",
    "\n",
    "    Args:\n",
    "        cleaned_data (str): The cleaned text data.\n",
    "\n",
    "    Returns:\n",
    "        list: A list of tuples containing the keyword and its frequency.\n",
    "    \"\"\"\n",
    "\n",
    "    # Tokenize the text\n",
    "    tokens = word_tokenize(cleaned_data)\n",
    "\n",
    "    # Remove stop words\n",
    "    stop_words = set(stopwords.words('english'))\n",
    "    filtered_tokens = [word for word in tokens if word.lower() not in stop_words]\n",
    "\n",
    "    # Count word frequencies\n",
    "    word_freq = Counter(filtered_tokens)\n",
    "\n",
    "    # Extract the most common words\n",
    "    keywords = word_freq.most_common(5)\n",
    "\n",
    "    return keywords\n",
    "\n",
    "# Apply sentiment analysis and keyword extraction\n",
    "data['sentiment'] = data['headline'].apply(sentiment_text)\n",
    "data['keywords'] = data['headline'].apply(extract_keywords)\n",
    "\n",
    "# Print the result\n",
    "print(data['headline','keywords','sentiment'].head(5))"
   ]
  }
 ],
 "metadata": {
  "kernelspec": {
   "display_name": "myvenv",
   "language": "python",
   "name": "python3"
  },
  "language_info": {
   "codemirror_mode": {
    "name": "ipython",
    "version": 3
   },
   "file_extension": ".py",
   "mimetype": "text/x-python",
   "name": "python",
   "nbconvert_exporter": "python",
   "pygments_lexer": "ipython3",
   "version": "3.12.4"
  }
 },
 "nbformat": 4,
 "nbformat_minor": 2
}
