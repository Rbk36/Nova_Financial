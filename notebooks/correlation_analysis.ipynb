{
 "cells": [
  {
   "cell_type": "code",
   "execution_count": 73,
   "metadata": {},
   "outputs": [
    {
     "name": "stdout",
     "output_type": "stream",
     "text": [
      "         Sentiment  Daily_Return\n",
      "1396536        0.0      0.197563\n",
      "1396537        0.0      0.402248\n",
      "1396538        0.0      0.077239\n",
      "1396539        0.0      0.716185\n",
      "1396540        0.0     -0.603527\n",
      "Number of non-null values: Sentiment       7\n",
      "Daily_Return    7\n",
      "dtype: int64\n",
      "Correlation: nan\n"
     ]
    }
   ],
   "source": [
    "import os\n",
    "import pandas as pd\n",
    "from textblob import TextBlob\n",
    "\n",
    "# Set the working directory one level up\n",
    "os.chdir(\"..\")\n",
    "\n",
    "# Function to load stock data from multiple files\n",
    "def load_stock_data(file_paths):\n",
    "    stock_dfs = []\n",
    "    for path in file_paths:\n",
    "        df = pd.read_csv(path)\n",
    "        df.columns = df.columns.str.strip().str.lower()\n",
    "        df['date'] = pd.to_datetime(df['date'], errors='coerce')\n",
    "        df.rename(columns={'date': 'Date', 'close': 'Close'}, inplace=True)\n",
    "        stock_dfs.append(df)\n",
    "    return pd.concat(stock_dfs, keys=[p.split('/')[-1].split('.')[0] for p in file_paths]).reset_index(level=0).rename(columns={'level_0': 'Ticker'})\n",
    "\n",
    "# Define stock file paths\n",
    "stock_file_paths = [\n",
    "    'C:/Users/hp/Desktop/week1/data/AAPL_historical_data.csv',\n",
    "    'C:/Users/hp/Desktop/week1/data/AMZN_historical_data.csv',\n",
    "    'C:/Users/hp/Desktop/week1/data/GOOG_historical_data.csv',\n",
    "    'C:/Users/hp/Desktop/week1/data/META_historical_data.csv',\n",
    "    'C:/Users/hp/Desktop/week1/data/MSFT_historical_data.csv',\n",
    "    'C:/Users/hp/Desktop/week1/data/NVDA_historical_data.csv',\n",
    "    'C:/Users/hp/Desktop/week1/data/TSLA_historical_data.csv'\n",
    "]\n",
    "\n",
    "# Load stock and news data\n",
    "stock_data = load_stock_data(stock_file_paths)\n",
    "news_data = pd.read_csv(\"C:/Users/hp/Desktop/week1/data/raw_analyst_ratings.csv\")\n",
    "news_data.columns = news_data.columns.str.strip().str.lower()\n",
    "news_data['date'] = pd.to_datetime(news_data['date'], errors='coerce')\n",
    "news_data.rename(columns={'date': 'Date', 'headline': 'Headline'}, inplace=True)\n",
    "\n",
    "# Standardize timezone to UTC\n",
    "def standardize_timezone(df):\n",
    "    if df['Date'].dt.tz is None:\n",
    "        df['Date'] = df['Date'].dt.tz_localize('UTC')\n",
    "    else:\n",
    "        df['Date'] = df['Date'].dt.tz_convert('UTC')\n",
    "    return df\n",
    "\n",
    "# Apply timezone standardization\n",
    "news_data = standardize_timezone(news_data)\n",
    "stock_data = standardize_timezone(stock_data)\n",
    "\n",
    "# Merge data\n",
    "merged_data = pd.merge(news_data, stock_data, on='Date', how='outer')\n",
    "\n",
    "# Sentiment analysis and daily returns\n",
    "merged_data['Sentiment'] = merged_data['Headline'].apply(lambda x: TextBlob(x).sentiment.polarity if isinstance(x, str) else None)\n",
    "merged_data['Daily_Return'] = merged_data.groupby('Ticker')['Close'].pct_change() * 100\n",
    "\n",
    "# Clean data and calculate correlation\n",
    "clean_data = merged_data.dropna(subset=['Sentiment', 'Daily_Return'])\n",
    "\n",
    "# Debugging: Check the cleaned data\n",
    "print(clean_data[['Sentiment', 'Daily_Return']].head())\n",
    "print(f\"Number of non-null values: {clean_data[['Sentiment', 'Daily_Return']].notnull().sum()}\")\n",
    "\n",
    "# Calculate correlation only if there are enough data points\n",
    "if len(clean_data) > 1:  # At least 2 points needed for correlation\n",
    "    correlation = clean_data[['Sentiment', 'Daily_Return']].corr().iloc[0, 1]\n",
    "    print(f\"Correlation: {correlation:.2f}\")\n",
    "else:\n",
    "    print(\"Not enough data to calculate correlation.\")"
   ]
  }
 ],
 "metadata": {
  "kernelspec": {
   "display_name": "myvenv",
   "language": "python",
   "name": "python3"
  },
  "language_info": {
   "codemirror_mode": {
    "name": "ipython",
    "version": 3
   },
   "file_extension": ".py",
   "mimetype": "text/x-python",
   "name": "python",
   "nbconvert_exporter": "python",
   "pygments_lexer": "ipython3",
   "version": "3.12.4"
  }
 },
 "nbformat": 4,
 "nbformat_minor": 2
}
